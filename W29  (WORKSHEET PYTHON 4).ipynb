{
 "cells": [
  {
   "cell_type": "markdown",
   "metadata": {},
   "source": [
    "### 14.\tWrite a python program to represent a user entered number in expanded form. For eg: user_input = 12345 \n",
    "### Output = 1* 10000 + 2* 1000 + 3* 100 + 4* 10 + 5* 1 \n"
   ]
  },
  {
   "cell_type": "code",
   "execution_count": 1,
   "metadata": {},
   "outputs": [],
   "source": [
    "def expand(num):\n",
    "    digits = str(num) # convert number to string\n",
    "    output = []\n",
    "    for i, digit in enumerate(digits):\n",
    "        output.append(\"(\" + digit + \"x10^\" + str(len(digits)-i-1) + \")\")\n",
    "    return \" + \".join(output)\n",
    "    "
   ]
  },
  {
   "cell_type": "code",
   "execution_count": 2,
   "metadata": {},
   "outputs": [
    {
     "data": {
      "text/plain": [
       "'(5x10^11) + (8x10^10) + (5x10^9) + (5x10^8) + (6x10^7) + (9x10^6) + (8x10^5) + (6x10^4) + (6x10^3) + (5x10^2) + (9x10^1) + (5x10^0)'"
      ]
     },
     "execution_count": 2,
     "metadata": {},
     "output_type": "execute_result"
    }
   ],
   "source": [
    "expand(585569866595)"
   ]
  },
  {
   "cell_type": "markdown",
   "metadata": {},
   "source": [
    "\n",
    "### 15.\tWrite a python program to determine whether the number entered by the user is an Armstrong number or not?\n"
   ]
  },
  {
   "cell_type": "code",
   "execution_count": 3,
   "metadata": {},
   "outputs": [
    {
     "name": "stdout",
     "output_type": "stream",
     "text": [
      "Enter a number: 589658987\n",
      "589658987 is not an Armstrong number\n"
     ]
    }
   ],
   "source": [
    "num = int(input(\"Enter a number: \"))\n",
    "n=len(str(num))\n",
    "sum = 0\n",
    "num1 = num\n",
    "while num1 > 0:\n",
    "    res= num1 % 10\n",
    "    sum =sum+ (res**n)\n",
    "    num1=num1//10\n",
    "\n",
    "if num == sum:\n",
    "    print(num,\"is an Armstrong number\")\n",
    "else:\n",
    "    print(num,\"is not an Armstrong number\")"
   ]
  },
  {
   "cell_type": "code",
   "execution_count": null,
   "metadata": {},
   "outputs": [],
   "source": []
  }
 ],
 "metadata": {
  "kernelspec": {
   "display_name": "Python 3",
   "language": "python",
   "name": "python3"
  },
  "language_info": {
   "codemirror_mode": {
    "name": "ipython",
    "version": 3
   },
   "file_extension": ".py",
   "mimetype": "text/x-python",
   "name": "python",
   "nbconvert_exporter": "python",
   "pygments_lexer": "ipython3",
   "version": "3.8.3"
  }
 },
 "nbformat": 4,
 "nbformat_minor": 4
}
