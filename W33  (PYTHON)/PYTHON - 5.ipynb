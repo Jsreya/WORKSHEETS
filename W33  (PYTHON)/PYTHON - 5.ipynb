{
 "cells": [
  {
   "cell_type": "markdown",
   "metadata": {},
   "source": [
    "12. write a python program to square the elements of a list by using list comprehension.\n"
   ]
  },
  {
   "cell_type": "code",
   "execution_count": 1,
   "metadata": {},
   "outputs": [],
   "source": [
    "def sqr(list):\n",
    "    return[i**2 for i in list]"
   ]
  },
  {
   "cell_type": "code",
   "execution_count": 3,
   "metadata": {},
   "outputs": [
    {
     "data": {
      "text/plain": [
       "[169, 81, 2025]"
      ]
     },
     "execution_count": 3,
     "metadata": {},
     "output_type": "execute_result"
    }
   ],
   "source": [
    "sqr([13,9,45])"
   ]
  },
  {
   "cell_type": "markdown",
   "metadata": {},
   "source": [
    "13. Write a pyhton program to drop duplicate elements from a list of numbers.\n"
   ]
  },
  {
   "cell_type": "code",
   "execution_count": 4,
   "metadata": {},
   "outputs": [
    {
     "name": "stdout",
     "output_type": "stream",
     "text": [
      "[73, 13, 80, 24, 56, 95]\n"
     ]
    }
   ],
   "source": [
    "dup=[13,24,56,73,24,73,95,56,13,95,80]\n",
    "print(list(set(dup)))"
   ]
  },
  {
   "cell_type": "code",
   "execution_count": 5,
   "metadata": {},
   "outputs": [
    {
     "name": "stdout",
     "output_type": "stream",
     "text": [
      "The list after removing duplicates : [13, 24, 56, 73, 95, 80]\n"
     ]
    }
   ],
   "source": [
    "# using list comprehension \n",
    "# to remove duplicated  \n",
    "# from list  \n",
    "res = [] \n",
    "[res.append(x) for x in dup if x not in res] \n",
    "  \n",
    "# printing list after removal  \n",
    "print (\"The list after removing duplicates : \" + str(res)) \n"
   ]
  },
  {
   "cell_type": "markdown",
   "metadata": {},
   "source": [
    "14. Take two sets of numbers and try implementing the set operations - intersection, union, difference and\n",
    "symmetric_difference between them."
   ]
  },
  {
   "cell_type": "code",
   "execution_count": 6,
   "metadata": {},
   "outputs": [
    {
     "name": "stdout",
     "output_type": "stream",
     "text": [
      "Union : {0, 32, 96, 1, 73, 74, 18, 84}\n",
      "Intersection : {32, 18}\n",
      "Difference : {0, 74, 96}\n",
      "Symmetric difference : {96, 1, 0, 84, 73, 74}\n"
     ]
    }
   ],
   "source": [
    "A = {0, 32, 74, 96, 18}; \n",
    "B = {1, 32, 73, 84, 18}; \n",
    "print(\"Union :\", A | B) \n",
    "print(\"Intersection :\", A & B) \n",
    "print(\"Difference :\", A - B) \n",
    "print(\"Symmetric difference :\", A ^ B)"
   ]
  },
  {
   "cell_type": "markdown",
   "metadata": {},
   "source": [
    "15. Write a python program to add the elements of a set."
   ]
  },
  {
   "cell_type": "code",
   "execution_count": 9,
   "metadata": {},
   "outputs": [
    {
     "name": "stdout",
     "output_type": "stream",
     "text": [
      "Vowels are: {'u', 'e', 'i'}\n",
      "Vowels are: {'u', 'e', 'o', 'i'}\n",
      "Vowels are: {'u', 'a', 'i', 'e', 'o'}\n"
     ]
    }
   ],
   "source": [
    "# set of vowels\n",
    "vowels = { 'e', 'i', 'u'}\n",
    "print('Vowels are:', vowels)\n",
    "\n",
    "# adding 'o'\n",
    "vowels.add('o')\n",
    "print('Vowels are:', vowels)\n",
    "\n",
    "# adding 'a' again\n",
    "vowels.add('a')\n",
    "print('Vowels are:', vowels)"
   ]
  },
  {
   "cell_type": "code",
   "execution_count": null,
   "metadata": {},
   "outputs": [],
   "source": []
  }
 ],
 "metadata": {
  "kernelspec": {
   "display_name": "Python 3",
   "language": "python",
   "name": "python3"
  },
  "language_info": {
   "codemirror_mode": {
    "name": "ipython",
    "version": 3
   },
   "file_extension": ".py",
   "mimetype": "text/x-python",
   "name": "python",
   "nbconvert_exporter": "python",
   "pygments_lexer": "ipython3",
   "version": "3.7.7"
  }
 },
 "nbformat": 4,
 "nbformat_minor": 4
}
