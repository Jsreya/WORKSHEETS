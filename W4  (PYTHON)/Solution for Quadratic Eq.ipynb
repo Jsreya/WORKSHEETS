{
 "cells": [
  {
   "cell_type": "code",
   "execution_count": 44,
   "metadata": {},
   "outputs": [
    {
     "name": "stdout",
     "output_type": "stream",
     "text": [
      "Enter value for a: 4\n",
      "Enter value for b: 5\n",
      "Enter value for c: 6\n"
     ]
    }
   ],
   "source": [
    "#Solve the quadratic equation ax^2 + bx + c = 0\n",
    "a = float(input(\"Enter value for a: \"))\n",
    "b = float(input(\"Enter value for b: \"))\n",
    "c = float(input(\"Enter value for c: \"))"
   ]
  },
  {
   "cell_type": "code",
   "execution_count": 46,
   "metadata": {},
   "outputs": [
    {
     "name": "stdout",
     "output_type": "stream",
     "text": [
      "value of d is -71.0 \n"
     ]
    }
   ],
   "source": [
    "#Calculate Discriminant\n",
    "d = (b**2)-(4*a*c)\n",
    "print(\"value of d is {0} \".format(d))"
   ]
  },
  {
   "cell_type": "code",
   "execution_count": 48,
   "metadata": {},
   "outputs": [
    {
     "name": "stdout",
     "output_type": "stream",
     "text": [
      "Solutions are (-0.625+1.0532687216470449j) and (-0.625-1.0532687216470449j)\n"
     ]
    }
   ],
   "source": [
    "#Find the solution\n",
    "import cmath\n",
    "sol_1 = (-b + cmath.sqrt(d))/(2*a)\n",
    "sol_2 = (-b - cmath.sqrt(d))/(2*a)\n",
    "print(\"Solutions are {0} and {1}\".format(sol_1,sol_2))"
   ]
  }
 ],
 "metadata": {
  "kernelspec": {
   "display_name": "Python 3",
   "language": "python",
   "name": "python3"
  },
  "language_info": {
   "codemirror_mode": {
    "name": "ipython",
    "version": 3
   },
   "file_extension": ".py",
   "mimetype": "text/x-python",
   "name": "python",
   "nbconvert_exporter": "python",
   "pygments_lexer": "ipython3",
   "version": "3.7.7"
  }
 },
 "nbformat": 4,
 "nbformat_minor": 4
}
