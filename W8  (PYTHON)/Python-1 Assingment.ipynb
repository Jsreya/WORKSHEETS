{
 "cells": [
  {
   "cell_type": "markdown",
   "metadata": {},
   "source": [
    "11. Write a python program to find the factorial of a number."
   ]
  },
  {
   "cell_type": "code",
   "execution_count": 19,
   "metadata": {},
   "outputs": [],
   "source": [
    "def factorial(num):\n",
    "    if num == 1:\n",
    "        return num\n",
    "    else: return num * factorial(num-1)"
   ]
  },
  {
   "cell_type": "code",
   "execution_count": 20,
   "metadata": {},
   "outputs": [
    {
     "name": "stdout",
     "output_type": "stream",
     "text": [
      "Enter a Number: 5\n"
     ]
    }
   ],
   "source": [
    "num = int(input(\"Enter a Number: \"))"
   ]
  },
  {
   "cell_type": "code",
   "execution_count": 21,
   "metadata": {},
   "outputs": [
    {
     "name": "stdout",
     "output_type": "stream",
     "text": [
      "Factorial of 5 is:  120\n"
     ]
    }
   ],
   "source": [
    "if num < 0:\n",
    "    print(\"Factorial can't be foud for Negetive number\")\n",
    "elif num == 0:\n",
    "    print(\"Factorial of 0 is 1\")\n",
    "else:\n",
    "    print(\"Factorial of\", num, \"is: \", factorial(num))"
   ]
  },
  {
   "cell_type": "markdown",
   "metadata": {},
   "source": [
    "12. Write a python program to find whether a number is prime or composite"
   ]
  },
  {
   "cell_type": "code",
   "execution_count": 27,
   "metadata": {},
   "outputs": [
    {
     "name": "stdout",
     "output_type": "stream",
     "text": [
      "Enter anay Number: 34\n"
     ]
    }
   ],
   "source": [
    "num = int(input(\"Enter anay Number: \"))"
   ]
  },
  {
   "cell_type": "code",
   "execution_count": 28,
   "metadata": {},
   "outputs": [
    {
     "name": "stdout",
     "output_type": "stream",
     "text": [
      "34 is not a Prime number\n"
     ]
    }
   ],
   "source": [
    "if num > 1:\n",
    "    for i in range(2, num):\n",
    "        if (num % i)== 0:\n",
    "            print(num, \"is not a Prime number\")\n",
    "            break\n",
    "        else:\n",
    "            print(num, \"is a Prime Number\")\n",
    "else:\n",
    "    print(num, \"is not a Prime number\")"
   ]
  },
  {
   "cell_type": "markdown",
   "metadata": {},
   "source": [
    "13. Write a python program to check whether a given string is palindrome or not"
   ]
  },
  {
   "cell_type": "code",
   "execution_count": 32,
   "metadata": {},
   "outputs": [],
   "source": [
    "def Palindrome(s):\n",
    "    return s == s[::-1]\n",
    "ans= Palindrome(s)"
   ]
  },
  {
   "cell_type": "code",
   "execution_count": 33,
   "metadata": {},
   "outputs": [
    {
     "name": "stdout",
     "output_type": "stream",
     "text": [
      "Enter the String: malayalam\n"
     ]
    }
   ],
   "source": [
    "s = input(\"Enter the String: \")"
   ]
  },
  {
   "cell_type": "code",
   "execution_count": 34,
   "metadata": {},
   "outputs": [
    {
     "name": "stdout",
     "output_type": "stream",
     "text": [
      "Yes, It is Palindrome\n"
     ]
    }
   ],
   "source": [
    "if ans: \n",
    "    print(\"Yes, It is Palindrome\")\n",
    "else:\n",
    "    print(\"No, It's not Palindrome\")"
   ]
  },
  {
   "cell_type": "markdown",
   "metadata": {},
   "source": [
    "14. Write a Python program to get the third side of right-angled triangle from two given sides"
   ]
  },
  {
   "cell_type": "code",
   "execution_count": 43,
   "metadata": {},
   "outputs": [
    {
     "name": "stdout",
     "output_type": "stream",
     "text": [
      "This is a Pythagorean Theorem calculator! Calculate one side of right-angled triangle.\n",
      "Assume the sides are a, b, c and c is the hypotenuse.\n"
     ]
    }
   ],
   "source": [
    "from math import sqrt\n",
    "print('This is a Pythagorean Theorem calculator! Calculate one side of right-angled triangle.')\n",
    "print('Assume the sides are a, b, c and c is the hypotenuse.')"
   ]
  },
  {
   "cell_type": "code",
   "execution_count": 45,
   "metadata": {},
   "outputs": [
    {
     "name": "stdout",
     "output_type": "stream",
     "text": [
      "Which side (a, b, c) do you want to calculate? side: b\n"
     ]
    }
   ],
   "source": [
    "choice = input('Which side (a, b, c) do you want to calculate? side: ')"
   ]
  },
  {
   "cell_type": "code",
   "execution_count": 48,
   "metadata": {},
   "outputs": [
    {
     "name": "stdout",
     "output_type": "stream",
     "text": [
      "Length of side a: 3\n",
      "Length of side c: 5\n",
      "The length of side b is: 4 \n"
     ]
    }
   ],
   "source": [
    "if choice == 'c':\n",
    "    a = float(input('Length of side a: '))\n",
    "    b = float(input('Length of side b: '))\n",
    "    c = sqrt(a * a + b * b)\n",
    "    print('The length of side c is: %g ' %(c))\n",
    "\n",
    "elif choice == 'b':\n",
    "    a = float(input('Length of side a: '))\n",
    "    c = float(input('Length of side c: '))\n",
    "    b = sqrt(c * c - a * a)\n",
    "    print('The length of side b is: %g ' %(b))\n",
    "\n",
    "elif choice == 'a':\n",
    "    b = float(input('Length of side b: '))\n",
    "    c = float(input('Length of side c: '))\n",
    "    a = sqrt((c * c) - (b * b))\n",
    "    print('The length of side a is: %g: ' %(a))\n",
    "\n",
    "else:\n",
    "    print('Invalid Input!')"
   ]
  },
  {
   "cell_type": "markdown",
   "metadata": {},
   "source": [
    " 15. Write a python program to print the frequency of each of the characters present in a given string"
   ]
  },
  {
   "cell_type": "code",
   "execution_count": 50,
   "metadata": {},
   "outputs": [
    {
     "name": "stdout",
     "output_type": "stream",
     "text": [
      "Enter the String: sreyashee\n"
     ]
    }
   ],
   "source": [
    "from collections import Counter\n",
    "string = input(\"Enter the String: \")"
   ]
  },
  {
   "cell_type": "code",
   "execution_count": 51,
   "metadata": {},
   "outputs": [
    {
     "name": "stdout",
     "output_type": "stream",
     "text": [
      "frequency of each of the characters in sreyashee :\n",
      "Counter({'e': 3, 's': 2, 'r': 1, 'y': 1, 'a': 1, 'h': 1})\n"
     ]
    }
   ],
   "source": [
    "res = Counter(string)\n",
    "print(\"frequency of each of the characters in\", string, \":\\n\" + str(res))"
   ]
  }
 ],
 "metadata": {
  "kernelspec": {
   "display_name": "Python 3",
   "language": "python",
   "name": "python3"
  },
  "language_info": {
   "codemirror_mode": {
    "name": "ipython",
    "version": 3
   },
   "file_extension": ".py",
   "mimetype": "text/x-python",
   "name": "python",
   "nbconvert_exporter": "python",
   "pygments_lexer": "ipython3",
   "version": "3.7.7"
  }
 },
 "nbformat": 4,
 "nbformat_minor": 4
}
